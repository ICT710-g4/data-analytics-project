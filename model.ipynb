{
 "cells": [
  {
   "cell_type": "code",
   "execution_count": 118,
   "metadata": {},
   "outputs": [],
   "source": [
    "import pandas as pd\n",
    "import numpy as np\n",
    "import random\n",
    "import matplotlib.pyplot as plt; plt.rcdefaults()\n",
    "import matplotlib.pyplot as plt\n",
    "%matplotlib inline"
   ]
  },
  {
   "cell_type": "markdown",
   "metadata": {},
   "source": [
    "# Training Model and Evaluation"
   ]
  },
  {
   "cell_type": "code",
   "execution_count": 119,
   "metadata": {},
   "outputs": [
    {
     "data": {
      "text/html": [
       "<div>\n",
       "<style scoped>\n",
       "    .dataframe tbody tr th:only-of-type {\n",
       "        vertical-align: middle;\n",
       "    }\n",
       "\n",
       "    .dataframe tbody tr th {\n",
       "        vertical-align: top;\n",
       "    }\n",
       "\n",
       "    .dataframe thead th {\n",
       "        text-align: right;\n",
       "    }\n",
       "</style>\n",
       "<table border=\"1\" class=\"dataframe\">\n",
       "  <thead>\n",
       "    <tr style=\"text-align: right;\">\n",
       "      <th></th>\n",
       "      <th>roll</th>\n",
       "      <th>pitch</th>\n",
       "      <th>yaw</th>\n",
       "      <th>acc_x</th>\n",
       "      <th>acc_y</th>\n",
       "      <th>acc_z</th>\n",
       "      <th>label</th>\n",
       "    </tr>\n",
       "  </thead>\n",
       "  <tbody>\n",
       "    <tr>\n",
       "      <th>count</th>\n",
       "      <td>282.000000</td>\n",
       "      <td>282.000000</td>\n",
       "      <td>282.000000</td>\n",
       "      <td>282.000000</td>\n",
       "      <td>282.000000</td>\n",
       "      <td>282.000000</td>\n",
       "      <td>282.000000</td>\n",
       "    </tr>\n",
       "    <tr>\n",
       "      <th>mean</th>\n",
       "      <td>2422.446809</td>\n",
       "      <td>-3109.042553</td>\n",
       "      <td>1244.858156</td>\n",
       "      <td>-294.365248</td>\n",
       "      <td>194.822695</td>\n",
       "      <td>512.138298</td>\n",
       "      <td>0.500000</td>\n",
       "    </tr>\n",
       "    <tr>\n",
       "      <th>std</th>\n",
       "      <td>18515.337665</td>\n",
       "      <td>26160.904944</td>\n",
       "      <td>9315.447746</td>\n",
       "      <td>328.075101</td>\n",
       "      <td>490.224740</td>\n",
       "      <td>515.951843</td>\n",
       "      <td>0.500889</td>\n",
       "    </tr>\n",
       "    <tr>\n",
       "      <th>min</th>\n",
       "      <td>-64610.000000</td>\n",
       "      <td>-88060.000000</td>\n",
       "      <td>-32970.000000</td>\n",
       "      <td>-1043.000000</td>\n",
       "      <td>-1059.000000</td>\n",
       "      <td>-425.000000</td>\n",
       "      <td>0.000000</td>\n",
       "    </tr>\n",
       "    <tr>\n",
       "      <th>25%</th>\n",
       "      <td>-1470.000000</td>\n",
       "      <td>-4637.500000</td>\n",
       "      <td>-1470.000000</td>\n",
       "      <td>-639.500000</td>\n",
       "      <td>-14.000000</td>\n",
       "      <td>-68.500000</td>\n",
       "      <td>0.000000</td>\n",
       "    </tr>\n",
       "    <tr>\n",
       "      <th>50%</th>\n",
       "      <td>770.000000</td>\n",
       "      <td>-770.000000</td>\n",
       "      <td>770.000000</td>\n",
       "      <td>-112.000000</td>\n",
       "      <td>-4.000000</td>\n",
       "      <td>821.000000</td>\n",
       "      <td>0.500000</td>\n",
       "    </tr>\n",
       "    <tr>\n",
       "      <th>75%</th>\n",
       "      <td>7735.000000</td>\n",
       "      <td>1820.000000</td>\n",
       "      <td>2940.000000</td>\n",
       "      <td>16.000000</td>\n",
       "      <td>727.250000</td>\n",
       "      <td>996.000000</td>\n",
       "      <td>1.000000</td>\n",
       "    </tr>\n",
       "    <tr>\n",
       "      <th>max</th>\n",
       "      <td>54110.000000</td>\n",
       "      <td>68950.000000</td>\n",
       "      <td>35420.000000</td>\n",
       "      <td>31.000000</td>\n",
       "      <td>1025.000000</td>\n",
       "      <td>1012.000000</td>\n",
       "      <td>1.000000</td>\n",
       "    </tr>\n",
       "  </tbody>\n",
       "</table>\n",
       "</div>"
      ],
      "text/plain": [
       "               roll         pitch           yaw        acc_x        acc_y  \\\n",
       "count    282.000000    282.000000    282.000000   282.000000   282.000000   \n",
       "mean    2422.446809  -3109.042553   1244.858156  -294.365248   194.822695   \n",
       "std    18515.337665  26160.904944   9315.447746   328.075101   490.224740   \n",
       "min   -64610.000000 -88060.000000 -32970.000000 -1043.000000 -1059.000000   \n",
       "25%    -1470.000000  -4637.500000  -1470.000000  -639.500000   -14.000000   \n",
       "50%      770.000000   -770.000000    770.000000  -112.000000    -4.000000   \n",
       "75%     7735.000000   1820.000000   2940.000000    16.000000   727.250000   \n",
       "max    54110.000000  68950.000000  35420.000000    31.000000  1025.000000   \n",
       "\n",
       "             acc_z       label  \n",
       "count   282.000000  282.000000  \n",
       "mean    512.138298    0.500000  \n",
       "std     515.951843    0.500889  \n",
       "min    -425.000000    0.000000  \n",
       "25%     -68.500000    0.000000  \n",
       "50%     821.000000    0.500000  \n",
       "75%     996.000000    1.000000  \n",
       "max    1012.000000    1.000000  "
      ]
     },
     "execution_count": 119,
     "metadata": {},
     "output_type": "execute_result"
    }
   ],
   "source": [
    "df = pd.read_csv(\"dataset/dataset_cleaned_train.csv\")\n",
    "df.describe()"
   ]
  },
  {
   "cell_type": "code",
   "execution_count": 120,
   "metadata": {},
   "outputs": [],
   "source": [
    "from sklearn.model_selection import cross_val_score\n",
    "from sklearn.linear_model import LogisticRegression\n",
    "from sklearn.ensemble import RandomForestClassifier\n",
    "from sklearn.ensemble import GradientBoostingClassifier\n",
    "from sklearn.naive_bayes import GaussianNB\n",
    "from sklearn.naive_bayes import BernoulliNB\n",
    "from sklearn.neural_network import MLPClassifier"
   ]
  },
  {
   "cell_type": "code",
   "execution_count": 121,
   "metadata": {},
   "outputs": [],
   "source": [
    "X = df[[col for col in df.columns if col != \"label\"]]\n",
    "y = df[\"label\"]"
   ]
  },
  {
   "cell_type": "code",
   "execution_count": 122,
   "metadata": {},
   "outputs": [],
   "source": [
    "fscore = []"
   ]
  },
  {
   "cell_type": "markdown",
   "metadata": {},
   "source": [
    "###  Logistic Regression"
   ]
  },
  {
   "cell_type": "code",
   "execution_count": 123,
   "metadata": {},
   "outputs": [
    {
     "data": {
      "text/plain": [
       "array([1., 1., 1., 1., 1.])"
      ]
     },
     "execution_count": 123,
     "metadata": {},
     "output_type": "execute_result"
    }
   ],
   "source": [
    "LoRe = LogisticRegression(solver=\"lbfgs\", random_state=42)\n",
    "LoRe_score = cross_val_score(LoRe, X, y, cv=5, scoring='f1_micro')\n",
    "fscore.append(LoRe_score.mean())\n",
    "LoRe_score"
   ]
  },
  {
   "cell_type": "markdown",
   "metadata": {},
   "source": [
    "###  Random Forest"
   ]
  },
  {
   "cell_type": "code",
   "execution_count": 124,
   "metadata": {},
   "outputs": [
    {
     "data": {
      "text/plain": [
       "array([1., 1., 1., 1., 1.])"
      ]
     },
     "execution_count": 124,
     "metadata": {},
     "output_type": "execute_result"
    }
   ],
   "source": [
    "randF = RandomForestClassifier(n_estimators=200)\n",
    "randF_score = cross_val_score(randF, X, y, cv=5, scoring='f1_micro')\n",
    "fscore.append(randF_score.mean())\n",
    "randF_score"
   ]
  },
  {
   "cell_type": "markdown",
   "metadata": {},
   "source": [
    "###  Gradient Boosting"
   ]
  },
  {
   "cell_type": "code",
   "execution_count": 125,
   "metadata": {},
   "outputs": [
    {
     "data": {
      "text/plain": [
       "array([1., 1., 1., 1., 1.])"
      ]
     },
     "execution_count": 125,
     "metadata": {},
     "output_type": "execute_result"
    }
   ],
   "source": [
    "gbc = GradientBoostingClassifier()\n",
    "gbc_score = cross_val_score(gbc, X, y, cv=5, scoring='f1_micro')\n",
    "fscore.append(gbc_score.mean())\n",
    "gbc_score"
   ]
  },
  {
   "cell_type": "markdown",
   "metadata": {},
   "source": [
    "###  Gaussian Naive Bayes"
   ]
  },
  {
   "cell_type": "code",
   "execution_count": 126,
   "metadata": {},
   "outputs": [
    {
     "data": {
      "text/plain": [
       "array([1., 1., 1., 1., 1.])"
      ]
     },
     "execution_count": 126,
     "metadata": {},
     "output_type": "execute_result"
    }
   ],
   "source": [
    "gnb = GaussianNB()\n",
    "gnb_score = cross_val_score(gnb, X, y, cv=5, scoring='f1_micro')\n",
    "fscore.append(gnb_score.mean())\n",
    "gnb_score"
   ]
  },
  {
   "cell_type": "markdown",
   "metadata": {},
   "source": [
    "###  Bernoulli Naive Bayes"
   ]
  },
  {
   "cell_type": "code",
   "execution_count": 127,
   "metadata": {},
   "outputs": [
    {
     "data": {
      "text/plain": [
       "array([1.        , 1.        , 0.98214286, 1.        , 1.        ])"
      ]
     },
     "execution_count": 127,
     "metadata": {},
     "output_type": "execute_result"
    }
   ],
   "source": [
    "bnb = BernoulliNB()\n",
    "bnb_score = cross_val_score(bnb, X, y, cv=5, scoring='f1_micro')\n",
    "fscore.append(bnb_score.mean())\n",
    "bnb_score"
   ]
  },
  {
   "cell_type": "markdown",
   "metadata": {},
   "source": [
    "###  Multi-layer Perceptron"
   ]
  },
  {
   "cell_type": "code",
   "execution_count": 128,
   "metadata": {},
   "outputs": [
    {
     "data": {
      "text/plain": [
       "array([0.79310345, 0.66071429, 0.96428571, 0.96428571, 0.98214286])"
      ]
     },
     "execution_count": 128,
     "metadata": {},
     "output_type": "execute_result"
    }
   ],
   "source": [
    "mlp = MLPClassifier(activation='relu', max_iter=500)\n",
    "mlp_score = cross_val_score(mlp, X, y, cv=5, scoring='f1_micro')\n",
    "fscore.append(mlp_score.mean())\n",
    "mlp_score"
   ]
  },
  {
   "cell_type": "markdown",
   "metadata": {},
   "source": [
    "## F1 plot"
   ]
  },
  {
   "cell_type": "code",
   "execution_count": 129,
   "metadata": {},
   "outputs": [
    {
     "data": {
      "text/plain": [
       "<matplotlib.axes._subplots.AxesSubplot at 0x11e679438>"
      ]
     },
     "execution_count": 129,
     "metadata": {},
     "output_type": "execute_result"
    },
    {
     "data": {
      "image/png": "[encoded data removed]",
      "text/plain": [
       "<Figure size 432x288 with 1 Axes>"
      ]
     },
     "metadata": {},
     "output_type": "display_data"
    }
   ],
   "source": [
    "list_ = []\n",
    "model_name = [\"LR\", \"RandF\", \"GB\", \"GaussNB\", \"BernNB\", \"MLP\"]\n",
    "for i in range(len(model_name)):\n",
    "    arr = {}\n",
    "    arr[\"model\"] = model_name[i]\n",
    "    arr[\"f-score\"] = fscore[i]\n",
    "    list_.append(arr)\n",
    "f1df = pd.DataFrame(list_)\n",
    "f1df.plot.barh(x=\"model\", y=\"f-score\")"
   ]
  },
  {
   "cell_type": "code",
   "execution_count": 130,
   "metadata": {},
   "outputs": [],
   "source": [
    "import pickle\n",
    "\n",
    "LoRe = LogisticRegression(solver=\"lbfgs\", random_state=42)\n",
    "LoRe.fit(X, y)\n",
    "pickle.dump(LoRe, open(\"model/lrmodel.pkl\", 'wb'))"
   ]
  },
  {
   "cell_type": "markdown",
   "metadata": {},
   "source": [
    "---\n",
    "## Prediction\n",
    "### Try with cleaned data"
   ]
  },
  {
   "cell_type": "code",
   "execution_count": 131,
   "metadata": {},
   "outputs": [],
   "source": [
    "import os\n",
    "\n",
    "model = {}\n",
    "target = \"model/lrmodel.pkl\"\n",
    "if os.path.getsize(target) > 0:      \n",
    "    with open(target, \"rb\") as f:\n",
    "        unpickler = pickle.Unpickler(f)\n",
    "        model = unpickler.load()"
   ]
  },
  {
   "cell_type": "code",
   "execution_count": 132,
   "metadata": {},
   "outputs": [],
   "source": [
    "df_test = pd.read_csv(\"dataset/dataset_cleaned_test.csv\")\n",
    "X_test = df_test[[col for col in df_test.columns if col != \"label\"]]\n",
    "y_test = df_test[\"label\"]"
   ]
  },
  {
   "cell_type": "code",
   "execution_count": 133,
   "metadata": {},
   "outputs": [
    {
     "name": "stdout",
     "output_type": "stream",
     "text": [
      "             precision    recall  f1-score   support\n",
      "\n",
      "          0       1.00      1.00      1.00        35\n",
      "          1       1.00      1.00      1.00        35\n",
      "\n",
      "avg / total       1.00      1.00      1.00        70\n",
      "\n"
     ]
    }
   ],
   "source": [
    "from sklearn.metrics import classification_report\n",
    "y_hat = model.predict(X_test)\n",
    "print(classification_report(y_test,y_hat))"
   ]
  },
  {
   "cell_type": "markdown",
   "metadata": {},
   "source": [
    "### Try with messy data"
   ]
  },
  {
   "cell_type": "code",
   "execution_count": 134,
   "metadata": {},
   "outputs": [],
   "source": [
    "df_test_1 = pd.read_csv(\"dataset.csv\")\n",
    "X_test = df_test_1[[col for col in df_test_1.columns if col != \"label\"]]\n",
    "y_test = df_test_1[\"label\"]"
   ]
  },
  {
   "cell_type": "code",
   "execution_count": 114,
   "metadata": {},
   "outputs": [
    {
     "name": "stdout",
     "output_type": "stream",
     "text": [
      "             precision    recall  f1-score   support\n",
      "\n",
      "          0       0.64      0.92      0.75       216\n",
      "          1       0.96      0.78      0.86       528\n",
      "\n",
      "avg / total       0.87      0.82      0.83       744\n",
      "\n"
     ]
    }
   ],
   "source": [
    "from sklearn.metrics import classification_report\n",
    "y_hat = model.predict(X_test)\n",
    "print(classification_report(y_test,y_hat))"
   ]
  },
  {
   "cell_type": "code",
   "execution_count": null,
   "metadata": {},
   "outputs": [],
   "source": []
  },
  {
   "cell_type": "code",
   "execution_count": null,
   "metadata": {},
   "outputs": [],
   "source": []
  }
 ],
 "metadata": {
  "kernelspec": {
   "display_name": "Python 3",
   "language": "python",
   "name": "python3"
  },
  "language_info": {
   "codemirror_mode": {
    "name": "ipython",
    "version": 3
   },
   "file_extension": ".py",
   "mimetype": "text/x-python",
   "name": "python",
   "nbconvert_exporter": "python",
   "pygments_lexer": "ipython3",
   "version": "3.6.9"
  }
 },
 "nbformat": 4,
 "nbformat_minor": 4
}
